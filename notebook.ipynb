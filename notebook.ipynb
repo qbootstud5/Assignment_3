{
 "cells": [
  {
   "cell_type": "code",
   "execution_count": 192,
   "metadata": {},
   "outputs": [],
   "source": [
    "import matplotlib.pyplot as plt\n",
    "import pandas as pd\n",
    "import numpy as np\n",
    "import sklearn as sk\n",
    "from sklearn.svm import SVC\n",
    "from sklearn.linear_model import SGDClassifier\n",
    "from sklearn.ensemble import RandomForestClassifier\n",
    "from sklearn.model_selection import cross_val_score, cross_val_predict, train_test_split\n",
    "from sklearn.metrics import precision_score, recall_score, f1_score, confusion_matrix, ConfusionMatrixDisplay\n",
    "import matplotlib.pyplot as plt\n",
    "import copy"
   ]
  },
  {
   "cell_type": "markdown",
   "metadata": {},
   "source": [
    "# Data preparation"
   ]
  },
  {
   "cell_type": "markdown",
   "metadata": {},
   "source": [
    "## Data loading"
   ]
  },
  {
   "cell_type": "code",
   "execution_count": 159,
   "metadata": {},
   "outputs": [],
   "source": [
    "raw_data = pd.read_csv(\"data/archive/train.csv\")"
   ]
  },
  {
   "cell_type": "code",
   "execution_count": 160,
   "metadata": {},
   "outputs": [
    {
     "data": {
      "text/plain": [
       "(103904, 25)"
      ]
     },
     "execution_count": 160,
     "metadata": {},
     "output_type": "execute_result"
    }
   ],
   "source": [
    "raw_data.shape"
   ]
  },
  {
   "cell_type": "markdown",
   "metadata": {},
   "source": [
    "Checking the type of the data"
   ]
  },
  {
   "cell_type": "code",
   "execution_count": 161,
   "metadata": {},
   "outputs": [
    {
     "data": {
      "text/html": [
       "<div>\n",
       "<style scoped>\n",
       "    .dataframe tbody tr th:only-of-type {\n",
       "        vertical-align: middle;\n",
       "    }\n",
       "\n",
       "    .dataframe tbody tr th {\n",
       "        vertical-align: top;\n",
       "    }\n",
       "\n",
       "    .dataframe thead th {\n",
       "        text-align: right;\n",
       "    }\n",
       "</style>\n",
       "<table border=\"1\" class=\"dataframe\">\n",
       "  <thead>\n",
       "    <tr style=\"text-align: right;\">\n",
       "      <th></th>\n",
       "      <th>Unnamed: 0</th>\n",
       "      <th>id</th>\n",
       "      <th>Gender</th>\n",
       "      <th>Customer Type</th>\n",
       "      <th>Age</th>\n",
       "      <th>Type of Travel</th>\n",
       "      <th>Class</th>\n",
       "      <th>Flight Distance</th>\n",
       "      <th>Inflight wifi service</th>\n",
       "      <th>Departure/Arrival time convenient</th>\n",
       "      <th>...</th>\n",
       "      <th>Inflight entertainment</th>\n",
       "      <th>On-board service</th>\n",
       "      <th>Leg room service</th>\n",
       "      <th>Baggage handling</th>\n",
       "      <th>Checkin service</th>\n",
       "      <th>Inflight service</th>\n",
       "      <th>Cleanliness</th>\n",
       "      <th>Departure Delay in Minutes</th>\n",
       "      <th>Arrival Delay in Minutes</th>\n",
       "      <th>satisfaction</th>\n",
       "    </tr>\n",
       "  </thead>\n",
       "  <tbody>\n",
       "    <tr>\n",
       "      <th>0</th>\n",
       "      <td>0</td>\n",
       "      <td>70172</td>\n",
       "      <td>Male</td>\n",
       "      <td>Loyal Customer</td>\n",
       "      <td>13</td>\n",
       "      <td>Personal Travel</td>\n",
       "      <td>Eco Plus</td>\n",
       "      <td>460</td>\n",
       "      <td>3</td>\n",
       "      <td>4</td>\n",
       "      <td>...</td>\n",
       "      <td>5</td>\n",
       "      <td>4</td>\n",
       "      <td>3</td>\n",
       "      <td>4</td>\n",
       "      <td>4</td>\n",
       "      <td>5</td>\n",
       "      <td>5</td>\n",
       "      <td>25</td>\n",
       "      <td>18.0</td>\n",
       "      <td>neutral or dissatisfied</td>\n",
       "    </tr>\n",
       "    <tr>\n",
       "      <th>1</th>\n",
       "      <td>1</td>\n",
       "      <td>5047</td>\n",
       "      <td>Male</td>\n",
       "      <td>disloyal Customer</td>\n",
       "      <td>25</td>\n",
       "      <td>Business travel</td>\n",
       "      <td>Business</td>\n",
       "      <td>235</td>\n",
       "      <td>3</td>\n",
       "      <td>2</td>\n",
       "      <td>...</td>\n",
       "      <td>1</td>\n",
       "      <td>1</td>\n",
       "      <td>5</td>\n",
       "      <td>3</td>\n",
       "      <td>1</td>\n",
       "      <td>4</td>\n",
       "      <td>1</td>\n",
       "      <td>1</td>\n",
       "      <td>6.0</td>\n",
       "      <td>neutral or dissatisfied</td>\n",
       "    </tr>\n",
       "    <tr>\n",
       "      <th>2</th>\n",
       "      <td>2</td>\n",
       "      <td>110028</td>\n",
       "      <td>Female</td>\n",
       "      <td>Loyal Customer</td>\n",
       "      <td>26</td>\n",
       "      <td>Business travel</td>\n",
       "      <td>Business</td>\n",
       "      <td>1142</td>\n",
       "      <td>2</td>\n",
       "      <td>2</td>\n",
       "      <td>...</td>\n",
       "      <td>5</td>\n",
       "      <td>4</td>\n",
       "      <td>3</td>\n",
       "      <td>4</td>\n",
       "      <td>4</td>\n",
       "      <td>4</td>\n",
       "      <td>5</td>\n",
       "      <td>0</td>\n",
       "      <td>0.0</td>\n",
       "      <td>satisfied</td>\n",
       "    </tr>\n",
       "    <tr>\n",
       "      <th>3</th>\n",
       "      <td>3</td>\n",
       "      <td>24026</td>\n",
       "      <td>Female</td>\n",
       "      <td>Loyal Customer</td>\n",
       "      <td>25</td>\n",
       "      <td>Business travel</td>\n",
       "      <td>Business</td>\n",
       "      <td>562</td>\n",
       "      <td>2</td>\n",
       "      <td>5</td>\n",
       "      <td>...</td>\n",
       "      <td>2</td>\n",
       "      <td>2</td>\n",
       "      <td>5</td>\n",
       "      <td>3</td>\n",
       "      <td>1</td>\n",
       "      <td>4</td>\n",
       "      <td>2</td>\n",
       "      <td>11</td>\n",
       "      <td>9.0</td>\n",
       "      <td>neutral or dissatisfied</td>\n",
       "    </tr>\n",
       "    <tr>\n",
       "      <th>4</th>\n",
       "      <td>4</td>\n",
       "      <td>119299</td>\n",
       "      <td>Male</td>\n",
       "      <td>Loyal Customer</td>\n",
       "      <td>61</td>\n",
       "      <td>Business travel</td>\n",
       "      <td>Business</td>\n",
       "      <td>214</td>\n",
       "      <td>3</td>\n",
       "      <td>3</td>\n",
       "      <td>...</td>\n",
       "      <td>3</td>\n",
       "      <td>3</td>\n",
       "      <td>4</td>\n",
       "      <td>4</td>\n",
       "      <td>3</td>\n",
       "      <td>3</td>\n",
       "      <td>3</td>\n",
       "      <td>0</td>\n",
       "      <td>0.0</td>\n",
       "      <td>satisfied</td>\n",
       "    </tr>\n",
       "  </tbody>\n",
       "</table>\n",
       "<p>5 rows × 25 columns</p>\n",
       "</div>"
      ],
      "text/plain": [
       "   Unnamed: 0      id  Gender      Customer Type  Age   Type of Travel  \\\n",
       "0           0   70172    Male     Loyal Customer   13  Personal Travel   \n",
       "1           1    5047    Male  disloyal Customer   25  Business travel   \n",
       "2           2  110028  Female     Loyal Customer   26  Business travel   \n",
       "3           3   24026  Female     Loyal Customer   25  Business travel   \n",
       "4           4  119299    Male     Loyal Customer   61  Business travel   \n",
       "\n",
       "      Class  Flight Distance  Inflight wifi service  \\\n",
       "0  Eco Plus              460                      3   \n",
       "1  Business              235                      3   \n",
       "2  Business             1142                      2   \n",
       "3  Business              562                      2   \n",
       "4  Business              214                      3   \n",
       "\n",
       "   Departure/Arrival time convenient  ...  Inflight entertainment  \\\n",
       "0                                  4  ...                       5   \n",
       "1                                  2  ...                       1   \n",
       "2                                  2  ...                       5   \n",
       "3                                  5  ...                       2   \n",
       "4                                  3  ...                       3   \n",
       "\n",
       "   On-board service  Leg room service  Baggage handling  Checkin service  \\\n",
       "0                 4                 3                 4                4   \n",
       "1                 1                 5                 3                1   \n",
       "2                 4                 3                 4                4   \n",
       "3                 2                 5                 3                1   \n",
       "4                 3                 4                 4                3   \n",
       "\n",
       "   Inflight service  Cleanliness  Departure Delay in Minutes  \\\n",
       "0                 5            5                          25   \n",
       "1                 4            1                           1   \n",
       "2                 4            5                           0   \n",
       "3                 4            2                          11   \n",
       "4                 3            3                           0   \n",
       "\n",
       "   Arrival Delay in Minutes             satisfaction  \n",
       "0                      18.0  neutral or dissatisfied  \n",
       "1                       6.0  neutral or dissatisfied  \n",
       "2                       0.0                satisfied  \n",
       "3                       9.0  neutral or dissatisfied  \n",
       "4                       0.0                satisfied  \n",
       "\n",
       "[5 rows x 25 columns]"
      ]
     },
     "execution_count": 161,
     "metadata": {},
     "output_type": "execute_result"
    }
   ],
   "source": [
    "raw_data.head()"
   ]
  },
  {
   "cell_type": "code",
   "execution_count": 162,
   "metadata": {},
   "outputs": [
    {
     "name": "stdout",
     "output_type": "stream",
     "text": [
      "<class 'pandas.core.frame.DataFrame'>\n",
      "RangeIndex: 103904 entries, 0 to 103903\n",
      "Data columns (total 25 columns):\n",
      " #   Column                             Non-Null Count   Dtype  \n",
      "---  ------                             --------------   -----  \n",
      " 0   Unnamed: 0                         103904 non-null  int64  \n",
      " 1   id                                 103904 non-null  int64  \n",
      " 2   Gender                             103904 non-null  object \n",
      " 3   Customer Type                      103904 non-null  object \n",
      " 4   Age                                103904 non-null  int64  \n",
      " 5   Type of Travel                     103904 non-null  object \n",
      " 6   Class                              103904 non-null  object \n",
      " 7   Flight Distance                    103904 non-null  int64  \n",
      " 8   Inflight wifi service              103904 non-null  int64  \n",
      " 9   Departure/Arrival time convenient  103904 non-null  int64  \n",
      " 10  Ease of Online booking             103904 non-null  int64  \n",
      " 11  Gate location                      103904 non-null  int64  \n",
      " 12  Food and drink                     103904 non-null  int64  \n",
      " 13  Online boarding                    103904 non-null  int64  \n",
      " 14  Seat comfort                       103904 non-null  int64  \n",
      " 15  Inflight entertainment             103904 non-null  int64  \n",
      " 16  On-board service                   103904 non-null  int64  \n",
      " 17  Leg room service                   103904 non-null  int64  \n",
      " 18  Baggage handling                   103904 non-null  int64  \n",
      " 19  Checkin service                    103904 non-null  int64  \n",
      " 20  Inflight service                   103904 non-null  int64  \n",
      " 21  Cleanliness                        103904 non-null  int64  \n",
      " 22  Departure Delay in Minutes         103904 non-null  int64  \n",
      " 23  Arrival Delay in Minutes           103594 non-null  float64\n",
      " 24  satisfaction                       103904 non-null  object \n",
      "dtypes: float64(1), int64(19), object(5)\n",
      "memory usage: 19.8+ MB\n"
     ]
    }
   ],
   "source": [
    "raw_data.info()"
   ]
  },
  {
   "cell_type": "markdown",
   "metadata": {},
   "source": [
    "A quick analysis of the columns tells us that there are basically 2 types of columns:\n",
    "- Category columns: They contain value from a small discrete set. For example many columns take values between 0 and 5\n",
    "- Non-category columns: The values contains doesn't seem to be bounded to be part of a small discrete set"
   ]
  },
  {
   "cell_type": "markdown",
   "metadata": {},
   "source": [
    "## data selection"
   ]
  },
  {
   "cell_type": "markdown",
   "metadata": {},
   "source": [
    "The first 2 columns do not affect classification, so we remove them"
   ]
  },
  {
   "cell_type": "code",
   "execution_count": 163,
   "metadata": {},
   "outputs": [],
   "source": [
    "raw_data = raw_data.drop(raw_data.iloc[:,[0, 1]], axis = 1)"
   ]
  },
  {
   "cell_type": "markdown",
   "metadata": {},
   "source": [
    "Get the different values for the satisfaction"
   ]
  },
  {
   "cell_type": "code",
   "execution_count": 164,
   "metadata": {},
   "outputs": [
    {
     "name": "stdout",
     "output_type": "stream",
     "text": [
      "('neutral or dissatisfied', 'satisfied')\n"
     ]
    }
   ],
   "source": [
    "satisfactory_set = tuple(set(raw_data[\"satisfaction\"].values))\n",
    "print(satisfactory_set)\n",
    "\n",
    "satisfactory_correspondance = {0: satisfactory_set[0], 1: satisfactory_set[1]}\n"
   ]
  },
  {
   "cell_type": "code",
   "execution_count": 165,
   "metadata": {},
   "outputs": [
    {
     "name": "stdout",
     "output_type": "stream",
     "text": [
      "{0: 'neutral or dissatisfied', 1: 'satisfied'}\n"
     ]
    }
   ],
   "source": [
    "print(satisfactory_correspondance)"
   ]
  },
  {
   "cell_type": "markdown",
   "metadata": {},
   "source": [
    "## Data cleaning"
   ]
  },
  {
   "cell_type": "markdown",
   "metadata": {},
   "source": [
    "Check for missing values"
   ]
  },
  {
   "cell_type": "code",
   "execution_count": 166,
   "metadata": {},
   "outputs": [
    {
     "data": {
      "text/plain": [
       "Gender                                 0\n",
       "Customer Type                          0\n",
       "Age                                    0\n",
       "Type of Travel                         0\n",
       "Class                                  0\n",
       "Flight Distance                        0\n",
       "Inflight wifi service                  0\n",
       "Departure/Arrival time convenient      0\n",
       "Ease of Online booking                 0\n",
       "Gate location                          0\n",
       "Food and drink                         0\n",
       "Online boarding                        0\n",
       "Seat comfort                           0\n",
       "Inflight entertainment                 0\n",
       "On-board service                       0\n",
       "Leg room service                       0\n",
       "Baggage handling                       0\n",
       "Checkin service                        0\n",
       "Inflight service                       0\n",
       "Cleanliness                            0\n",
       "Departure Delay in Minutes             0\n",
       "Arrival Delay in Minutes             310\n",
       "satisfaction                           0\n",
       "dtype: int64"
      ]
     },
     "execution_count": 166,
     "metadata": {},
     "output_type": "execute_result"
    }
   ],
   "source": [
    "raw_data.isna().sum()"
   ]
  },
  {
   "cell_type": "markdown",
   "metadata": {},
   "source": [
    "Some values in Arrival Delay in Minutes feature are missing."
   ]
  },
  {
   "cell_type": "code",
   "execution_count": 167,
   "metadata": {},
   "outputs": [
    {
     "name": "stdout",
     "output_type": "stream",
     "text": [
      "0.00298352325223283\n"
     ]
    }
   ],
   "source": [
    "missing_value_ratio = raw_data[\"Arrival Delay in Minutes\"].isna().sum() / raw_data.shape[0]\n",
    "print(missing_value_ratio)"
   ]
  },
  {
   "cell_type": "markdown",
   "metadata": {},
   "source": [
    "The missing value represent less than 0.3% of the available data. We can remove the corresponding rows safely without losing generality in the models built."
   ]
  },
  {
   "cell_type": "code",
   "execution_count": 168,
   "metadata": {},
   "outputs": [],
   "source": [
    "raw_data = raw_data.dropna()"
   ]
  },
  {
   "cell_type": "code",
   "execution_count": 169,
   "metadata": {},
   "outputs": [
    {
     "data": {
      "text/html": [
       "<div>\n",
       "<style scoped>\n",
       "    .dataframe tbody tr th:only-of-type {\n",
       "        vertical-align: middle;\n",
       "    }\n",
       "\n",
       "    .dataframe tbody tr th {\n",
       "        vertical-align: top;\n",
       "    }\n",
       "\n",
       "    .dataframe thead th {\n",
       "        text-align: right;\n",
       "    }\n",
       "</style>\n",
       "<table border=\"1\" class=\"dataframe\">\n",
       "  <thead>\n",
       "    <tr style=\"text-align: right;\">\n",
       "      <th></th>\n",
       "      <th>Age</th>\n",
       "      <th>Flight Distance</th>\n",
       "      <th>Inflight wifi service</th>\n",
       "      <th>Departure/Arrival time convenient</th>\n",
       "      <th>Ease of Online booking</th>\n",
       "      <th>Gate location</th>\n",
       "      <th>Food and drink</th>\n",
       "      <th>Online boarding</th>\n",
       "      <th>Seat comfort</th>\n",
       "      <th>Inflight entertainment</th>\n",
       "      <th>On-board service</th>\n",
       "      <th>Leg room service</th>\n",
       "      <th>Baggage handling</th>\n",
       "      <th>Checkin service</th>\n",
       "      <th>Inflight service</th>\n",
       "      <th>Cleanliness</th>\n",
       "      <th>Departure Delay in Minutes</th>\n",
       "      <th>Arrival Delay in Minutes</th>\n",
       "    </tr>\n",
       "  </thead>\n",
       "  <tbody>\n",
       "    <tr>\n",
       "      <th>count</th>\n",
       "      <td>103594.000000</td>\n",
       "      <td>103594.000000</td>\n",
       "      <td>103594.000000</td>\n",
       "      <td>103594.000000</td>\n",
       "      <td>103594.000000</td>\n",
       "      <td>103594.000000</td>\n",
       "      <td>103594.000000</td>\n",
       "      <td>103594.000000</td>\n",
       "      <td>103594.000000</td>\n",
       "      <td>103594.000000</td>\n",
       "      <td>103594.000000</td>\n",
       "      <td>103594.000000</td>\n",
       "      <td>103594.000000</td>\n",
       "      <td>103594.000000</td>\n",
       "      <td>103594.000000</td>\n",
       "      <td>103594.000000</td>\n",
       "      <td>103594.000000</td>\n",
       "      <td>103594.000000</td>\n",
       "    </tr>\n",
       "    <tr>\n",
       "      <th>mean</th>\n",
       "      <td>39.380466</td>\n",
       "      <td>1189.325202</td>\n",
       "      <td>2.729753</td>\n",
       "      <td>3.060081</td>\n",
       "      <td>2.756984</td>\n",
       "      <td>2.977026</td>\n",
       "      <td>3.202126</td>\n",
       "      <td>3.250497</td>\n",
       "      <td>3.439765</td>\n",
       "      <td>3.358341</td>\n",
       "      <td>3.382609</td>\n",
       "      <td>3.351401</td>\n",
       "      <td>3.631687</td>\n",
       "      <td>3.304323</td>\n",
       "      <td>3.640761</td>\n",
       "      <td>3.286397</td>\n",
       "      <td>14.747939</td>\n",
       "      <td>15.178678</td>\n",
       "    </tr>\n",
       "    <tr>\n",
       "      <th>std</th>\n",
       "      <td>15.113125</td>\n",
       "      <td>997.297235</td>\n",
       "      <td>1.327866</td>\n",
       "      <td>1.525233</td>\n",
       "      <td>1.398934</td>\n",
       "      <td>1.277723</td>\n",
       "      <td>1.329401</td>\n",
       "      <td>1.349433</td>\n",
       "      <td>1.318896</td>\n",
       "      <td>1.333030</td>\n",
       "      <td>1.288284</td>\n",
       "      <td>1.315409</td>\n",
       "      <td>1.181051</td>\n",
       "      <td>1.265396</td>\n",
       "      <td>1.175603</td>\n",
       "      <td>1.312194</td>\n",
       "      <td>38.116737</td>\n",
       "      <td>38.698682</td>\n",
       "    </tr>\n",
       "    <tr>\n",
       "      <th>min</th>\n",
       "      <td>7.000000</td>\n",
       "      <td>31.000000</td>\n",
       "      <td>0.000000</td>\n",
       "      <td>0.000000</td>\n",
       "      <td>0.000000</td>\n",
       "      <td>0.000000</td>\n",
       "      <td>0.000000</td>\n",
       "      <td>0.000000</td>\n",
       "      <td>0.000000</td>\n",
       "      <td>0.000000</td>\n",
       "      <td>0.000000</td>\n",
       "      <td>0.000000</td>\n",
       "      <td>1.000000</td>\n",
       "      <td>0.000000</td>\n",
       "      <td>0.000000</td>\n",
       "      <td>0.000000</td>\n",
       "      <td>0.000000</td>\n",
       "      <td>0.000000</td>\n",
       "    </tr>\n",
       "    <tr>\n",
       "      <th>25%</th>\n",
       "      <td>27.000000</td>\n",
       "      <td>414.000000</td>\n",
       "      <td>2.000000</td>\n",
       "      <td>2.000000</td>\n",
       "      <td>2.000000</td>\n",
       "      <td>2.000000</td>\n",
       "      <td>2.000000</td>\n",
       "      <td>2.000000</td>\n",
       "      <td>2.000000</td>\n",
       "      <td>2.000000</td>\n",
       "      <td>2.000000</td>\n",
       "      <td>2.000000</td>\n",
       "      <td>3.000000</td>\n",
       "      <td>3.000000</td>\n",
       "      <td>3.000000</td>\n",
       "      <td>2.000000</td>\n",
       "      <td>0.000000</td>\n",
       "      <td>0.000000</td>\n",
       "    </tr>\n",
       "    <tr>\n",
       "      <th>50%</th>\n",
       "      <td>40.000000</td>\n",
       "      <td>842.000000</td>\n",
       "      <td>3.000000</td>\n",
       "      <td>3.000000</td>\n",
       "      <td>3.000000</td>\n",
       "      <td>3.000000</td>\n",
       "      <td>3.000000</td>\n",
       "      <td>3.000000</td>\n",
       "      <td>4.000000</td>\n",
       "      <td>4.000000</td>\n",
       "      <td>4.000000</td>\n",
       "      <td>4.000000</td>\n",
       "      <td>4.000000</td>\n",
       "      <td>3.000000</td>\n",
       "      <td>4.000000</td>\n",
       "      <td>3.000000</td>\n",
       "      <td>0.000000</td>\n",
       "      <td>0.000000</td>\n",
       "    </tr>\n",
       "    <tr>\n",
       "      <th>75%</th>\n",
       "      <td>51.000000</td>\n",
       "      <td>1743.000000</td>\n",
       "      <td>4.000000</td>\n",
       "      <td>4.000000</td>\n",
       "      <td>4.000000</td>\n",
       "      <td>4.000000</td>\n",
       "      <td>4.000000</td>\n",
       "      <td>4.000000</td>\n",
       "      <td>5.000000</td>\n",
       "      <td>4.000000</td>\n",
       "      <td>4.000000</td>\n",
       "      <td>4.000000</td>\n",
       "      <td>5.000000</td>\n",
       "      <td>4.000000</td>\n",
       "      <td>5.000000</td>\n",
       "      <td>4.000000</td>\n",
       "      <td>12.000000</td>\n",
       "      <td>13.000000</td>\n",
       "    </tr>\n",
       "    <tr>\n",
       "      <th>max</th>\n",
       "      <td>85.000000</td>\n",
       "      <td>4983.000000</td>\n",
       "      <td>5.000000</td>\n",
       "      <td>5.000000</td>\n",
       "      <td>5.000000</td>\n",
       "      <td>5.000000</td>\n",
       "      <td>5.000000</td>\n",
       "      <td>5.000000</td>\n",
       "      <td>5.000000</td>\n",
       "      <td>5.000000</td>\n",
       "      <td>5.000000</td>\n",
       "      <td>5.000000</td>\n",
       "      <td>5.000000</td>\n",
       "      <td>5.000000</td>\n",
       "      <td>5.000000</td>\n",
       "      <td>5.000000</td>\n",
       "      <td>1592.000000</td>\n",
       "      <td>1584.000000</td>\n",
       "    </tr>\n",
       "  </tbody>\n",
       "</table>\n",
       "</div>"
      ],
      "text/plain": [
       "                 Age  Flight Distance  Inflight wifi service  \\\n",
       "count  103594.000000    103594.000000          103594.000000   \n",
       "mean       39.380466      1189.325202               2.729753   \n",
       "std        15.113125       997.297235               1.327866   \n",
       "min         7.000000        31.000000               0.000000   \n",
       "25%        27.000000       414.000000               2.000000   \n",
       "50%        40.000000       842.000000               3.000000   \n",
       "75%        51.000000      1743.000000               4.000000   \n",
       "max        85.000000      4983.000000               5.000000   \n",
       "\n",
       "       Departure/Arrival time convenient  Ease of Online booking  \\\n",
       "count                      103594.000000           103594.000000   \n",
       "mean                            3.060081                2.756984   \n",
       "std                             1.525233                1.398934   \n",
       "min                             0.000000                0.000000   \n",
       "25%                             2.000000                2.000000   \n",
       "50%                             3.000000                3.000000   \n",
       "75%                             4.000000                4.000000   \n",
       "max                             5.000000                5.000000   \n",
       "\n",
       "       Gate location  Food and drink  Online boarding   Seat comfort  \\\n",
       "count  103594.000000   103594.000000    103594.000000  103594.000000   \n",
       "mean        2.977026        3.202126         3.250497       3.439765   \n",
       "std         1.277723        1.329401         1.349433       1.318896   \n",
       "min         0.000000        0.000000         0.000000       0.000000   \n",
       "25%         2.000000        2.000000         2.000000       2.000000   \n",
       "50%         3.000000        3.000000         3.000000       4.000000   \n",
       "75%         4.000000        4.000000         4.000000       5.000000   \n",
       "max         5.000000        5.000000         5.000000       5.000000   \n",
       "\n",
       "       Inflight entertainment  On-board service  Leg room service  \\\n",
       "count           103594.000000     103594.000000     103594.000000   \n",
       "mean                 3.358341          3.382609          3.351401   \n",
       "std                  1.333030          1.288284          1.315409   \n",
       "min                  0.000000          0.000000          0.000000   \n",
       "25%                  2.000000          2.000000          2.000000   \n",
       "50%                  4.000000          4.000000          4.000000   \n",
       "75%                  4.000000          4.000000          4.000000   \n",
       "max                  5.000000          5.000000          5.000000   \n",
       "\n",
       "       Baggage handling  Checkin service  Inflight service    Cleanliness  \\\n",
       "count     103594.000000    103594.000000     103594.000000  103594.000000   \n",
       "mean           3.631687         3.304323          3.640761       3.286397   \n",
       "std            1.181051         1.265396          1.175603       1.312194   \n",
       "min            1.000000         0.000000          0.000000       0.000000   \n",
       "25%            3.000000         3.000000          3.000000       2.000000   \n",
       "50%            4.000000         3.000000          4.000000       3.000000   \n",
       "75%            5.000000         4.000000          5.000000       4.000000   \n",
       "max            5.000000         5.000000          5.000000       5.000000   \n",
       "\n",
       "       Departure Delay in Minutes  Arrival Delay in Minutes  \n",
       "count               103594.000000             103594.000000  \n",
       "mean                    14.747939                 15.178678  \n",
       "std                     38.116737                 38.698682  \n",
       "min                      0.000000                  0.000000  \n",
       "25%                      0.000000                  0.000000  \n",
       "50%                      0.000000                  0.000000  \n",
       "75%                     12.000000                 13.000000  \n",
       "max                   1592.000000               1584.000000  "
      ]
     },
     "execution_count": 169,
     "metadata": {},
     "output_type": "execute_result"
    }
   ],
   "source": [
    "raw_data.describe()"
   ]
  },
  {
   "cell_type": "markdown",
   "metadata": {},
   "source": [
    "We need to do some formatting of the initial data before constructing new data."
   ]
  },
  {
   "cell_type": "markdown",
   "metadata": {},
   "source": [
    "Let's divide columns into categorical columns and not categorical ones"
   ]
  },
  {
   "cell_type": "code",
   "execution_count": 170,
   "metadata": {},
   "outputs": [],
   "source": [
    "category_index = [0,1,3,4] + list(range(6,20)) + [22]\n",
    "raw_data.iloc[:, category_index] = raw_data.iloc[:, category_index].astype('category')"
   ]
  },
  {
   "cell_type": "code",
   "execution_count": 171,
   "metadata": {},
   "outputs": [],
   "source": [
    "categorical_columns = [c for c in raw_data.columns if raw_data[c].dtype.name == 'category']\n",
    "noncategorical_columns = [c for c in raw_data.columns if raw_data[c].dtype.name != 'category']"
   ]
  },
  {
   "cell_type": "code",
   "execution_count": 172,
   "metadata": {},
   "outputs": [
    {
     "data": {
      "text/plain": [
       "['Gender',\n",
       " 'Customer Type',\n",
       " 'Type of Travel',\n",
       " 'Class',\n",
       " 'Inflight wifi service',\n",
       " 'Departure/Arrival time convenient',\n",
       " 'Ease of Online booking',\n",
       " 'Gate location',\n",
       " 'Food and drink',\n",
       " 'Online boarding',\n",
       " 'Seat comfort',\n",
       " 'Inflight entertainment',\n",
       " 'On-board service',\n",
       " 'Leg room service',\n",
       " 'Baggage handling',\n",
       " 'Checkin service',\n",
       " 'Inflight service',\n",
       " 'Cleanliness',\n",
       " 'satisfaction']"
      ]
     },
     "execution_count": 172,
     "metadata": {},
     "output_type": "execute_result"
    }
   ],
   "source": [
    "categorical_columns"
   ]
  },
  {
   "cell_type": "code",
   "execution_count": 173,
   "metadata": {},
   "outputs": [
    {
     "name": "stdout",
     "output_type": "stream",
     "text": [
      "<class 'pandas.core.frame.DataFrame'>\n",
      "Int64Index: 103594 entries, 0 to 103903\n",
      "Data columns (total 23 columns):\n",
      " #   Column                             Non-Null Count   Dtype   \n",
      "---  ------                             --------------   -----   \n",
      " 0   Gender                             103594 non-null  category\n",
      " 1   Customer Type                      103594 non-null  category\n",
      " 2   Age                                103594 non-null  int64   \n",
      " 3   Type of Travel                     103594 non-null  category\n",
      " 4   Class                              103594 non-null  category\n",
      " 5   Flight Distance                    103594 non-null  int64   \n",
      " 6   Inflight wifi service              103594 non-null  category\n",
      " 7   Departure/Arrival time convenient  103594 non-null  category\n",
      " 8   Ease of Online booking             103594 non-null  category\n",
      " 9   Gate location                      103594 non-null  category\n",
      " 10  Food and drink                     103594 non-null  category\n",
      " 11  Online boarding                    103594 non-null  category\n",
      " 12  Seat comfort                       103594 non-null  category\n",
      " 13  Inflight entertainment             103594 non-null  category\n",
      " 14  On-board service                   103594 non-null  category\n",
      " 15  Leg room service                   103594 non-null  category\n",
      " 16  Baggage handling                   103594 non-null  category\n",
      " 17  Checkin service                    103594 non-null  category\n",
      " 18  Inflight service                   103594 non-null  category\n",
      " 19  Cleanliness                        103594 non-null  category\n",
      " 20  Departure Delay in Minutes         103594 non-null  int64   \n",
      " 21  Arrival Delay in Minutes           103594 non-null  float64 \n",
      " 22  satisfaction                       103594 non-null  category\n",
      "dtypes: category(19), float64(1), int64(3)\n",
      "memory usage: 5.8 MB\n"
     ]
    }
   ],
   "source": [
    "raw_data.info()"
   ]
  },
  {
   "cell_type": "markdown",
   "metadata": {},
   "source": [
    "## Construct new data"
   ]
  },
  {
   "cell_type": "markdown",
   "metadata": {},
   "source": [
    "First we separate categories into binary categories and not binary"
   ]
  },
  {
   "cell_type": "code",
   "execution_count": 174,
   "metadata": {},
   "outputs": [],
   "source": [
    "binary_columns = [c for c in categorical_columns if raw_data[c].nunique() == 2]\n",
    "nonbinary_columns = [c for c in categorical_columns if raw_data[c].nunique() != 2]"
   ]
  },
  {
   "cell_type": "code",
   "execution_count": 175,
   "metadata": {},
   "outputs": [
    {
     "data": {
      "text/plain": [
       "['Class',\n",
       " 'Inflight wifi service',\n",
       " 'Departure/Arrival time convenient',\n",
       " 'Ease of Online booking',\n",
       " 'Gate location',\n",
       " 'Food and drink',\n",
       " 'Online boarding',\n",
       " 'Seat comfort',\n",
       " 'Inflight entertainment',\n",
       " 'On-board service',\n",
       " 'Leg room service',\n",
       " 'Baggage handling',\n",
       " 'Checkin service',\n",
       " 'Inflight service',\n",
       " 'Cleanliness']"
      ]
     },
     "execution_count": 175,
     "metadata": {},
     "output_type": "execute_result"
    }
   ],
   "source": [
    "nonbinary_columns"
   ]
  },
  {
   "cell_type": "code",
   "execution_count": 176,
   "metadata": {},
   "outputs": [
    {
     "data": {
      "text/plain": [
       "['Gender', 'Customer Type', 'Type of Travel', 'satisfaction']"
      ]
     },
     "execution_count": 176,
     "metadata": {},
     "output_type": "execute_result"
    }
   ],
   "source": [
    "binary_columns"
   ]
  },
  {
   "cell_type": "markdown",
   "metadata": {},
   "source": [
    "Now we vectorize the non binary categorical features with a one-hot encoding this way:\n",
    "\n",
    "If a feature can take n values, then we replace it by n binary features. Then one of these new features should have a 1 value and the other a 0 value. \\\n",
    "For example, if the feature number j has a 1 value, and the others have a 0 value, then that means that the initial feature has the j value."
   ]
  },
  {
   "cell_type": "code",
   "execution_count": 177,
   "metadata": {},
   "outputs": [],
   "source": [
    "vectorized_data = pd.get_dummies(raw_data[nonbinary_columns])"
   ]
  },
  {
   "cell_type": "markdown",
   "metadata": {},
   "source": [
    "## Integrating data"
   ]
  },
  {
   "cell_type": "markdown",
   "metadata": {},
   "source": [
    "Now we need to integrate the new features created appropriately. \\\n",
    "We basically replace the non binary categorical features by their binary counterparts"
   ]
  },
  {
   "cell_type": "code",
   "execution_count": 178,
   "metadata": {},
   "outputs": [],
   "source": [
    "raw_data = pd.concat([raw_data[noncategorical_columns], raw_data[binary_columns], vectorized_data], axis=1)"
   ]
  },
  {
   "cell_type": "code",
   "execution_count": 179,
   "metadata": {},
   "outputs": [
    {
     "data": {
      "text/html": [
       "<div>\n",
       "<style scoped>\n",
       "    .dataframe tbody tr th:only-of-type {\n",
       "        vertical-align: middle;\n",
       "    }\n",
       "\n",
       "    .dataframe tbody tr th {\n",
       "        vertical-align: top;\n",
       "    }\n",
       "\n",
       "    .dataframe thead th {\n",
       "        text-align: right;\n",
       "    }\n",
       "</style>\n",
       "<table border=\"1\" class=\"dataframe\">\n",
       "  <thead>\n",
       "    <tr style=\"text-align: right;\">\n",
       "      <th></th>\n",
       "      <th>Age</th>\n",
       "      <th>Flight Distance</th>\n",
       "      <th>Departure Delay in Minutes</th>\n",
       "      <th>Arrival Delay in Minutes</th>\n",
       "      <th>Class_Business</th>\n",
       "      <th>Class_Eco</th>\n",
       "      <th>Class_Eco Plus</th>\n",
       "      <th>Inflight wifi service_0</th>\n",
       "      <th>Inflight wifi service_1</th>\n",
       "      <th>Inflight wifi service_2</th>\n",
       "      <th>...</th>\n",
       "      <th>Inflight service_2</th>\n",
       "      <th>Inflight service_3</th>\n",
       "      <th>Inflight service_4</th>\n",
       "      <th>Inflight service_5</th>\n",
       "      <th>Cleanliness_0</th>\n",
       "      <th>Cleanliness_1</th>\n",
       "      <th>Cleanliness_2</th>\n",
       "      <th>Cleanliness_3</th>\n",
       "      <th>Cleanliness_4</th>\n",
       "      <th>Cleanliness_5</th>\n",
       "    </tr>\n",
       "  </thead>\n",
       "  <tbody>\n",
       "    <tr>\n",
       "      <th>count</th>\n",
       "      <td>103594.000000</td>\n",
       "      <td>103594.000000</td>\n",
       "      <td>103594.000000</td>\n",
       "      <td>103594.000000</td>\n",
       "      <td>103594.000000</td>\n",
       "      <td>103594.000000</td>\n",
       "      <td>103594.000000</td>\n",
       "      <td>103594.000000</td>\n",
       "      <td>103594.000000</td>\n",
       "      <td>103594.000000</td>\n",
       "      <td>...</td>\n",
       "      <td>103594.000000</td>\n",
       "      <td>103594.000000</td>\n",
       "      <td>103594.000000</td>\n",
       "      <td>103594.000000</td>\n",
       "      <td>103594.000000</td>\n",
       "      <td>103594.000000</td>\n",
       "      <td>103594.000000</td>\n",
       "      <td>103594.000000</td>\n",
       "      <td>103594.000000</td>\n",
       "      <td>103594.000000</td>\n",
       "    </tr>\n",
       "    <tr>\n",
       "      <th>mean</th>\n",
       "      <td>39.380466</td>\n",
       "      <td>1189.325202</td>\n",
       "      <td>14.747939</td>\n",
       "      <td>15.178678</td>\n",
       "      <td>0.478145</td>\n",
       "      <td>0.449765</td>\n",
       "      <td>0.072089</td>\n",
       "      <td>0.029886</td>\n",
       "      <td>0.171641</td>\n",
       "      <td>0.248615</td>\n",
       "      <td>...</td>\n",
       "      <td>0.110180</td>\n",
       "      <td>0.195253</td>\n",
       "      <td>0.365330</td>\n",
       "      <td>0.261029</td>\n",
       "      <td>0.000116</td>\n",
       "      <td>0.128154</td>\n",
       "      <td>0.155231</td>\n",
       "      <td>0.236558</td>\n",
       "      <td>0.261598</td>\n",
       "      <td>0.218343</td>\n",
       "    </tr>\n",
       "    <tr>\n",
       "      <th>std</th>\n",
       "      <td>15.113125</td>\n",
       "      <td>997.297235</td>\n",
       "      <td>38.116737</td>\n",
       "      <td>38.698682</td>\n",
       "      <td>0.499525</td>\n",
       "      <td>0.497472</td>\n",
       "      <td>0.258637</td>\n",
       "      <td>0.170273</td>\n",
       "      <td>0.377070</td>\n",
       "      <td>0.432212</td>\n",
       "      <td>...</td>\n",
       "      <td>0.313116</td>\n",
       "      <td>0.396397</td>\n",
       "      <td>0.481525</td>\n",
       "      <td>0.439198</td>\n",
       "      <td>0.010762</td>\n",
       "      <td>0.334263</td>\n",
       "      <td>0.362126</td>\n",
       "      <td>0.424971</td>\n",
       "      <td>0.439507</td>\n",
       "      <td>0.413123</td>\n",
       "    </tr>\n",
       "    <tr>\n",
       "      <th>min</th>\n",
       "      <td>7.000000</td>\n",
       "      <td>31.000000</td>\n",
       "      <td>0.000000</td>\n",
       "      <td>0.000000</td>\n",
       "      <td>0.000000</td>\n",
       "      <td>0.000000</td>\n",
       "      <td>0.000000</td>\n",
       "      <td>0.000000</td>\n",
       "      <td>0.000000</td>\n",
       "      <td>0.000000</td>\n",
       "      <td>...</td>\n",
       "      <td>0.000000</td>\n",
       "      <td>0.000000</td>\n",
       "      <td>0.000000</td>\n",
       "      <td>0.000000</td>\n",
       "      <td>0.000000</td>\n",
       "      <td>0.000000</td>\n",
       "      <td>0.000000</td>\n",
       "      <td>0.000000</td>\n",
       "      <td>0.000000</td>\n",
       "      <td>0.000000</td>\n",
       "    </tr>\n",
       "    <tr>\n",
       "      <th>25%</th>\n",
       "      <td>27.000000</td>\n",
       "      <td>414.000000</td>\n",
       "      <td>0.000000</td>\n",
       "      <td>0.000000</td>\n",
       "      <td>0.000000</td>\n",
       "      <td>0.000000</td>\n",
       "      <td>0.000000</td>\n",
       "      <td>0.000000</td>\n",
       "      <td>0.000000</td>\n",
       "      <td>0.000000</td>\n",
       "      <td>...</td>\n",
       "      <td>0.000000</td>\n",
       "      <td>0.000000</td>\n",
       "      <td>0.000000</td>\n",
       "      <td>0.000000</td>\n",
       "      <td>0.000000</td>\n",
       "      <td>0.000000</td>\n",
       "      <td>0.000000</td>\n",
       "      <td>0.000000</td>\n",
       "      <td>0.000000</td>\n",
       "      <td>0.000000</td>\n",
       "    </tr>\n",
       "    <tr>\n",
       "      <th>50%</th>\n",
       "      <td>40.000000</td>\n",
       "      <td>842.000000</td>\n",
       "      <td>0.000000</td>\n",
       "      <td>0.000000</td>\n",
       "      <td>0.000000</td>\n",
       "      <td>0.000000</td>\n",
       "      <td>0.000000</td>\n",
       "      <td>0.000000</td>\n",
       "      <td>0.000000</td>\n",
       "      <td>0.000000</td>\n",
       "      <td>...</td>\n",
       "      <td>0.000000</td>\n",
       "      <td>0.000000</td>\n",
       "      <td>0.000000</td>\n",
       "      <td>0.000000</td>\n",
       "      <td>0.000000</td>\n",
       "      <td>0.000000</td>\n",
       "      <td>0.000000</td>\n",
       "      <td>0.000000</td>\n",
       "      <td>0.000000</td>\n",
       "      <td>0.000000</td>\n",
       "    </tr>\n",
       "    <tr>\n",
       "      <th>75%</th>\n",
       "      <td>51.000000</td>\n",
       "      <td>1743.000000</td>\n",
       "      <td>12.000000</td>\n",
       "      <td>13.000000</td>\n",
       "      <td>1.000000</td>\n",
       "      <td>1.000000</td>\n",
       "      <td>0.000000</td>\n",
       "      <td>0.000000</td>\n",
       "      <td>0.000000</td>\n",
       "      <td>0.000000</td>\n",
       "      <td>...</td>\n",
       "      <td>0.000000</td>\n",
       "      <td>0.000000</td>\n",
       "      <td>1.000000</td>\n",
       "      <td>1.000000</td>\n",
       "      <td>0.000000</td>\n",
       "      <td>0.000000</td>\n",
       "      <td>0.000000</td>\n",
       "      <td>0.000000</td>\n",
       "      <td>1.000000</td>\n",
       "      <td>0.000000</td>\n",
       "    </tr>\n",
       "    <tr>\n",
       "      <th>max</th>\n",
       "      <td>85.000000</td>\n",
       "      <td>4983.000000</td>\n",
       "      <td>1592.000000</td>\n",
       "      <td>1584.000000</td>\n",
       "      <td>1.000000</td>\n",
       "      <td>1.000000</td>\n",
       "      <td>1.000000</td>\n",
       "      <td>1.000000</td>\n",
       "      <td>1.000000</td>\n",
       "      <td>1.000000</td>\n",
       "      <td>...</td>\n",
       "      <td>1.000000</td>\n",
       "      <td>1.000000</td>\n",
       "      <td>1.000000</td>\n",
       "      <td>1.000000</td>\n",
       "      <td>1.000000</td>\n",
       "      <td>1.000000</td>\n",
       "      <td>1.000000</td>\n",
       "      <td>1.000000</td>\n",
       "      <td>1.000000</td>\n",
       "      <td>1.000000</td>\n",
       "    </tr>\n",
       "  </tbody>\n",
       "</table>\n",
       "<p>8 rows × 90 columns</p>\n",
       "</div>"
      ],
      "text/plain": [
       "                 Age  Flight Distance  Departure Delay in Minutes  \\\n",
       "count  103594.000000    103594.000000               103594.000000   \n",
       "mean       39.380466      1189.325202                   14.747939   \n",
       "std        15.113125       997.297235                   38.116737   \n",
       "min         7.000000        31.000000                    0.000000   \n",
       "25%        27.000000       414.000000                    0.000000   \n",
       "50%        40.000000       842.000000                    0.000000   \n",
       "75%        51.000000      1743.000000                   12.000000   \n",
       "max        85.000000      4983.000000                 1592.000000   \n",
       "\n",
       "       Arrival Delay in Minutes  Class_Business      Class_Eco  \\\n",
       "count             103594.000000   103594.000000  103594.000000   \n",
       "mean                  15.178678        0.478145       0.449765   \n",
       "std                   38.698682        0.499525       0.497472   \n",
       "min                    0.000000        0.000000       0.000000   \n",
       "25%                    0.000000        0.000000       0.000000   \n",
       "50%                    0.000000        0.000000       0.000000   \n",
       "75%                   13.000000        1.000000       1.000000   \n",
       "max                 1584.000000        1.000000       1.000000   \n",
       "\n",
       "       Class_Eco Plus  Inflight wifi service_0  Inflight wifi service_1  \\\n",
       "count   103594.000000            103594.000000            103594.000000   \n",
       "mean         0.072089                 0.029886                 0.171641   \n",
       "std          0.258637                 0.170273                 0.377070   \n",
       "min          0.000000                 0.000000                 0.000000   \n",
       "25%          0.000000                 0.000000                 0.000000   \n",
       "50%          0.000000                 0.000000                 0.000000   \n",
       "75%          0.000000                 0.000000                 0.000000   \n",
       "max          1.000000                 1.000000                 1.000000   \n",
       "\n",
       "       Inflight wifi service_2  ...  Inflight service_2  Inflight service_3  \\\n",
       "count            103594.000000  ...       103594.000000       103594.000000   \n",
       "mean                  0.248615  ...            0.110180            0.195253   \n",
       "std                   0.432212  ...            0.313116            0.396397   \n",
       "min                   0.000000  ...            0.000000            0.000000   \n",
       "25%                   0.000000  ...            0.000000            0.000000   \n",
       "50%                   0.000000  ...            0.000000            0.000000   \n",
       "75%                   0.000000  ...            0.000000            0.000000   \n",
       "max                   1.000000  ...            1.000000            1.000000   \n",
       "\n",
       "       Inflight service_4  Inflight service_5  Cleanliness_0  Cleanliness_1  \\\n",
       "count       103594.000000       103594.000000  103594.000000  103594.000000   \n",
       "mean             0.365330            0.261029       0.000116       0.128154   \n",
       "std              0.481525            0.439198       0.010762       0.334263   \n",
       "min              0.000000            0.000000       0.000000       0.000000   \n",
       "25%              0.000000            0.000000       0.000000       0.000000   \n",
       "50%              0.000000            0.000000       0.000000       0.000000   \n",
       "75%              1.000000            1.000000       0.000000       0.000000   \n",
       "max              1.000000            1.000000       1.000000       1.000000   \n",
       "\n",
       "       Cleanliness_2  Cleanliness_3  Cleanliness_4  Cleanliness_5  \n",
       "count  103594.000000  103594.000000  103594.000000  103594.000000  \n",
       "mean        0.155231       0.236558       0.261598       0.218343  \n",
       "std         0.362126       0.424971       0.439507       0.413123  \n",
       "min         0.000000       0.000000       0.000000       0.000000  \n",
       "25%         0.000000       0.000000       0.000000       0.000000  \n",
       "50%         0.000000       0.000000       0.000000       0.000000  \n",
       "75%         0.000000       0.000000       1.000000       0.000000  \n",
       "max         1.000000       1.000000       1.000000       1.000000  \n",
       "\n",
       "[8 rows x 90 columns]"
      ]
     },
     "execution_count": 179,
     "metadata": {},
     "output_type": "execute_result"
    }
   ],
   "source": [
    "raw_data.describe()"
   ]
  },
  {
   "cell_type": "markdown",
   "metadata": {},
   "source": [
    "## Formatting data"
   ]
  },
  {
   "cell_type": "markdown",
   "metadata": {},
   "source": [
    "First convert the binary features values"
   ]
  },
  {
   "cell_type": "code",
   "execution_count": 180,
   "metadata": {},
   "outputs": [
    {
     "name": "stdout",
     "output_type": "stream",
     "text": [
      "<class 'pandas.core.series.Series'>\n",
      "Int64Index: 103594 entries, 0 to 103903\n",
      "Series name: Gender\n",
      "Non-Null Count   Dtype   \n",
      "--------------   -----   \n",
      "103594 non-null  category\n",
      "dtypes: category(1)\n",
      "memory usage: 910.6 KB\n"
     ]
    }
   ],
   "source": [
    "raw_data['Gender'].info()"
   ]
  },
  {
   "cell_type": "code",
   "execution_count": 181,
   "metadata": {},
   "outputs": [
    {
     "name": "stdout",
     "output_type": "stream",
     "text": [
      "<class 'pandas.core.series.Series'>\n",
      "Int64Index: 103594 entries, 0 to 103903\n",
      "Series name: Gender\n",
      "Non-Null Count   Dtype \n",
      "--------------   ----- \n",
      "103594 non-null  object\n",
      "dtypes: object(1)\n",
      "memory usage: 1.6+ MB\n",
      "None\n",
      "Gender\n",
      "<class 'pandas.core.series.Series'>\n",
      "Int64Index: 103594 entries, 0 to 103903\n",
      "Series name: Customer Type\n",
      "Non-Null Count   Dtype \n",
      "--------------   ----- \n",
      "103594 non-null  object\n",
      "dtypes: object(1)\n",
      "memory usage: 1.6+ MB\n",
      "None\n",
      "Customer Type\n",
      "<class 'pandas.core.series.Series'>\n",
      "Int64Index: 103594 entries, 0 to 103903\n",
      "Series name: Type of Travel\n",
      "Non-Null Count   Dtype \n",
      "--------------   ----- \n",
      "103594 non-null  object\n",
      "dtypes: object(1)\n",
      "memory usage: 1.6+ MB\n",
      "None\n",
      "Type of Travel\n",
      "<class 'pandas.core.series.Series'>\n",
      "Int64Index: 103594 entries, 0 to 103903\n",
      "Series name: satisfaction\n",
      "Non-Null Count   Dtype \n",
      "--------------   ----- \n",
      "103594 non-null  object\n",
      "dtypes: object(1)\n",
      "memory usage: 1.6+ MB\n",
      "None\n",
      "satisfaction\n"
     ]
    }
   ],
   "source": [
    "binary_mapping = {}\n",
    "for col in binary_columns:\n",
    "    raw_data[col] = raw_data[col].astype('object')\n",
    "    print(raw_data[col].info())\n",
    "    print(col)\n",
    "    unique_data = list(raw_data[col].unique())\n",
    "    binary_mapping[col] = [{val: unique_data.index(val) for val in unique_data}]\n",
    "    raw_data[col] = raw_data[col].map({val: unique_data.index(val) for val in unique_data})\n",
    "        "
   ]
  },
  {
   "cell_type": "code",
   "execution_count": 182,
   "metadata": {},
   "outputs": [
    {
     "data": {
      "text/plain": [
       "0         0\n",
       "1         0\n",
       "2         1\n",
       "3         1\n",
       "4         0\n",
       "         ..\n",
       "103899    1\n",
       "103900    0\n",
       "103901    0\n",
       "103902    1\n",
       "103903    0\n",
       "Name: Gender, Length: 103594, dtype: int64"
      ]
     },
     "execution_count": 182,
     "metadata": {},
     "output_type": "execute_result"
    }
   ],
   "source": [
    "raw_data['Gender']"
   ]
  },
  {
   "cell_type": "code",
   "execution_count": 183,
   "metadata": {},
   "outputs": [
    {
     "data": {
      "text/plain": [
       "{'Gender': [{'Male': 0, 'Female': 1}],\n",
       " 'Customer Type': [{'Loyal Customer': 0, 'disloyal Customer': 1}],\n",
       " 'Type of Travel': [{'Personal Travel': 0, 'Business travel': 1}],\n",
       " 'satisfaction': [{'neutral or dissatisfied': 0, 'satisfied': 1}]}"
      ]
     },
     "execution_count": 183,
     "metadata": {},
     "output_type": "execute_result"
    }
   ],
   "source": [
    "binary_mapping"
   ]
  },
  {
   "cell_type": "markdown",
   "metadata": {},
   "source": [
    "Now for the noncategorical features, we perform a standardization. \\\n",
    "Here we will reduce all values to have zero means and variance 1"
   ]
  },
  {
   "cell_type": "code",
   "execution_count": 184,
   "metadata": {},
   "outputs": [],
   "source": [
    "raw_data[noncategorical_columns] = (raw_data[noncategorical_columns]-raw_data[noncategorical_columns].mean(axis=0))/raw_data[noncategorical_columns].std(axis=0)"
   ]
  },
  {
   "cell_type": "code",
   "execution_count": 185,
   "metadata": {},
   "outputs": [
    {
     "data": {
      "text/html": [
       "<div>\n",
       "<style scoped>\n",
       "    .dataframe tbody tr th:only-of-type {\n",
       "        vertical-align: middle;\n",
       "    }\n",
       "\n",
       "    .dataframe tbody tr th {\n",
       "        vertical-align: top;\n",
       "    }\n",
       "\n",
       "    .dataframe thead th {\n",
       "        text-align: right;\n",
       "    }\n",
       "</style>\n",
       "<table border=\"1\" class=\"dataframe\">\n",
       "  <thead>\n",
       "    <tr style=\"text-align: right;\">\n",
       "      <th></th>\n",
       "      <th>Gender</th>\n",
       "      <th>Customer Type</th>\n",
       "      <th>Type of Travel</th>\n",
       "      <th>satisfaction</th>\n",
       "    </tr>\n",
       "  </thead>\n",
       "  <tbody>\n",
       "    <tr>\n",
       "      <th>count</th>\n",
       "      <td>103594.000000</td>\n",
       "      <td>103594.000000</td>\n",
       "      <td>103594.000000</td>\n",
       "      <td>103594.000000</td>\n",
       "    </tr>\n",
       "    <tr>\n",
       "      <th>mean</th>\n",
       "      <td>0.507520</td>\n",
       "      <td>0.182752</td>\n",
       "      <td>0.689857</td>\n",
       "      <td>0.433394</td>\n",
       "    </tr>\n",
       "    <tr>\n",
       "      <th>std</th>\n",
       "      <td>0.499946</td>\n",
       "      <td>0.386465</td>\n",
       "      <td>0.462554</td>\n",
       "      <td>0.495546</td>\n",
       "    </tr>\n",
       "    <tr>\n",
       "      <th>min</th>\n",
       "      <td>0.000000</td>\n",
       "      <td>0.000000</td>\n",
       "      <td>0.000000</td>\n",
       "      <td>0.000000</td>\n",
       "    </tr>\n",
       "    <tr>\n",
       "      <th>25%</th>\n",
       "      <td>0.000000</td>\n",
       "      <td>0.000000</td>\n",
       "      <td>0.000000</td>\n",
       "      <td>0.000000</td>\n",
       "    </tr>\n",
       "    <tr>\n",
       "      <th>50%</th>\n",
       "      <td>1.000000</td>\n",
       "      <td>0.000000</td>\n",
       "      <td>1.000000</td>\n",
       "      <td>0.000000</td>\n",
       "    </tr>\n",
       "    <tr>\n",
       "      <th>75%</th>\n",
       "      <td>1.000000</td>\n",
       "      <td>0.000000</td>\n",
       "      <td>1.000000</td>\n",
       "      <td>1.000000</td>\n",
       "    </tr>\n",
       "    <tr>\n",
       "      <th>max</th>\n",
       "      <td>1.000000</td>\n",
       "      <td>1.000000</td>\n",
       "      <td>1.000000</td>\n",
       "      <td>1.000000</td>\n",
       "    </tr>\n",
       "  </tbody>\n",
       "</table>\n",
       "</div>"
      ],
      "text/plain": [
       "              Gender  Customer Type  Type of Travel   satisfaction\n",
       "count  103594.000000  103594.000000   103594.000000  103594.000000\n",
       "mean        0.507520       0.182752        0.689857       0.433394\n",
       "std         0.499946       0.386465        0.462554       0.495546\n",
       "min         0.000000       0.000000        0.000000       0.000000\n",
       "25%         0.000000       0.000000        0.000000       0.000000\n",
       "50%         1.000000       0.000000        1.000000       0.000000\n",
       "75%         1.000000       0.000000        1.000000       1.000000\n",
       "max         1.000000       1.000000        1.000000       1.000000"
      ]
     },
     "execution_count": 185,
     "metadata": {},
     "output_type": "execute_result"
    }
   ],
   "source": [
    "raw_data[binary_columns].describe()"
   ]
  },
  {
   "cell_type": "code",
   "execution_count": 201,
   "metadata": {},
   "outputs": [],
   "source": [
    "data = raw_data.drop('satisfaction', axis = 1)\n",
    "target = raw_data['satisfaction']"
   ]
  },
  {
   "cell_type": "markdown",
   "metadata": {},
   "source": [
    "# Data modelling"
   ]
  },
  {
   "cell_type": "markdown",
   "metadata": {},
   "source": [
    "## Selecting Modeling Techniques\n",
    "We will select 3 different classifiers:\n",
    "- Support vector machines\n",
    "- Random forest\n",
    "- Stochastic gradient descent"
   ]
  },
  {
   "cell_type": "markdown",
   "metadata": {},
   "source": [
    "## Generate Test Design"
   ]
  },
  {
   "cell_type": "markdown",
   "metadata": {},
   "source": [
    "We will split the dataset into: \n",
    "- 75% training set\n",
    "- 25% testing set"
   ]
  },
  {
   "cell_type": "code",
   "execution_count": 202,
   "metadata": {},
   "outputs": [],
   "source": [
    "data_training, data_test, target_training, target_test = train_test_split(data, target)\n",
    "\n",
    "data_training = data[: (number_data := (round(len(data)*0.75)))]\n",
    "data_test = data[number_data:]\n",
    "target_training = target[:number_data]\n",
    "target_test = target[number_data:]"
   ]
  },
  {
   "cell_type": "markdown",
   "metadata": {},
   "source": [
    "## Building the models"
   ]
  },
  {
   "cell_type": "markdown",
   "metadata": {},
   "source": [
    "First we instanciate the models"
   ]
  },
  {
   "cell_type": "code",
   "execution_count": 203,
   "metadata": {},
   "outputs": [],
   "source": [
    "models_dict: dict = {\n",
    "    \"Support Vector Machine\": SVC(),\n",
    "    \"Random Forest\": RandomForestClassifier(),\n",
    "    \"Stochastic Gradient Descent\": SGDClassifier()\n",
    "}"
   ]
  },
  {
   "cell_type": "markdown",
   "metadata": {},
   "source": [
    "Train the classifiers"
   ]
  },
  {
   "cell_type": "code",
   "execution_count": 204,
   "metadata": {},
   "outputs": [],
   "source": [
    "for value in models_dict.values():\n",
    "    value.fit(data_training, target_training)"
   ]
  },
  {
   "cell_type": "markdown",
   "metadata": {},
   "source": [
    "# Evaluation: Model Assessment and Evaluation"
   ]
  },
  {
   "cell_type": "markdown",
   "metadata": {},
   "source": [
    "## Quickly test the models\n",
    "We can quickly test the models to see if they are accurate in their prediction"
   ]
  },
  {
   "cell_type": "code",
   "execution_count": 205,
   "metadata": {},
   "outputs": [
    {
     "name": "stdout",
     "output_type": "stream",
     "text": [
      "The prediction should be: 0 \n",
      "\n",
      "The model Support Vector Machine predicts 0\n",
      "The model Random Forest predicts 0\n",
      "The model Stochastic Gradient Descent predicts 0\n"
     ]
    },
    {
     "name": "stderr",
     "output_type": "stream",
     "text": [
      "/Users/jonoillarburu/PythonEnvironments/bootcamp_environment/lib/python3.10/site-packages/sklearn/base.py:450: UserWarning: X does not have valid feature names, but SVC was fitted with feature names\n",
      "  warnings.warn(\n",
      "/Users/jonoillarburu/PythonEnvironments/bootcamp_environment/lib/python3.10/site-packages/sklearn/base.py:450: UserWarning: X does not have valid feature names, but RandomForestClassifier was fitted with feature names\n",
      "  warnings.warn(\n",
      "/Users/jonoillarburu/PythonEnvironments/bootcamp_environment/lib/python3.10/site-packages/sklearn/base.py:450: UserWarning: X does not have valid feature names, but SGDClassifier was fitted with feature names\n",
      "  warnings.warn(\n"
     ]
    }
   ],
   "source": [
    "# Selecting an item to predict\n",
    "testing_index = 0\n",
    "quick_result = target_test.iloc[0]\n",
    "print(f\"The prediction should be: {quick_result} \\n\")\n",
    "\n",
    "corresponding_data = data_test.iloc[0]\n",
    "\n",
    "for key, value in models_dict.items():\n",
    "    print(f\"The model {key} predicts {value.predict([corresponding_data])[0]}\")\n"
   ]
  },
  {
   "cell_type": "markdown",
   "metadata": {},
   "source": [
    "## Asssessment on training set"
   ]
  },
  {
   "cell_type": "markdown",
   "metadata": {},
   "source": [
    "### K-Fold cross validation\n",
    "We will split the data in 5  folds to use the k-fold cross validation"
   ]
  },
  {
   "cell_type": "code",
   "execution_count": 206,
   "metadata": {},
   "outputs": [],
   "source": [
    "folds_number: int = 5\n",
    "\n",
    "for key, value in models_dict.items():\n",
    "    print(f\"The cross validation score for {key} is: {cross_val_score(value, data_training, target_training, cv=folds_number)}\")"
   ]
  },
  {
   "cell_type": "markdown",
   "metadata": {},
   "source": [
    "### Confusion matrix"
   ]
  },
  {
   "cell_type": "markdown",
   "metadata": {},
   "source": [
    "First use the cross_val_predict to return the predictioin made on each fold"
   ]
  },
  {
   "cell_type": "code",
   "execution_count": 152,
   "metadata": {},
   "outputs": [],
   "source": [
    "target_training_prediction_dict: dict = {k: cross_val_predict(v, data_training, target_training, cv=folds_number) for k, v in models_dict.items()}"
   ]
  },
  {
   "cell_type": "markdown",
   "metadata": {},
   "source": [
    "Then for each model draw the confusion matrix"
   ]
  },
  {
   "cell_type": "code",
   "execution_count": 153,
   "metadata": {},
   "outputs": [],
   "source": [
    "confusion_matrix_dict: dict = {k: confusion_matrix(target_training, v) for k, v in target_training_prediction_dict.items()}"
   ]
  },
  {
   "cell_type": "code",
   "execution_count": 154,
   "metadata": {},
   "outputs": [
    {
     "data": {
      "image/png": "[encoded data removed]",
      "text/plain": [
       "<Figure size 1800x432 with 6 Axes>"
      ]
     },
     "metadata": {
      "needs_background": "light"
     },
     "output_type": "display_data"
    }
   ],
   "source": [
    "# Draw the confusion matrix:\n",
    "fig, axs = plt.subplots(1,3, figsize = (25,6))\n",
    "\n",
    "for i, key in enumerate(confusion_matrix_dict.keys()):\n",
    "    disp = ConfusionMatrixDisplay(confusion_matrix = confusion_matrix_dict[key])\n",
    "    axs[i].set_title(key, fontsize = 20)\n",
    "    disp.plot(ax=axs[i])\n"
   ]
  },
  {
   "cell_type": "markdown",
   "metadata": {},
   "source": [
    "### Different scores\n",
    "We can compute different metrics on the models:\n",
    "- Recall\n",
    "- Precision\n",
    "- F1 score"
   ]
  },
  {
   "cell_type": "code",
   "execution_count": 155,
   "metadata": {},
   "outputs": [],
   "source": [
    "scores_dict: dict = {k:\n",
    "{\n",
    "    \"recall\": recall_score(target_training, v),\n",
    "    \"precision\": precision_score(target_training, v),\n",
    "    \"F1 score\": f1_score(target_training, v)\n",
    "} for k, v in target_training_prediction_dict.items()}\n"
   ]
  },
  {
   "cell_type": "code",
   "execution_count": 100,
   "metadata": {},
   "outputs": [
    {
     "data": {
      "text/plain": [
       "{'Support Vector Machine': {'recall': 0.9996443496043389,\n",
       "  'precision': 0.9999703528016602,\n",
       "  'F1 score': 0.9998073246283589},\n",
       " 'Random Forest': {'recall': 1.0, 'precision': 1.0, 'F1 score': 1.0},\n",
       " 'Stochastic Gradient Descent': {'recall': 1.0,\n",
       "  'precision': 0.9999703633453856,\n",
       "  'F1 score': 0.9999851814531067}}"
      ]
     },
     "execution_count": 100,
     "metadata": {},
     "output_type": "execute_result"
    }
   ],
   "source": [
    "scores_dict"
   ]
  },
  {
   "cell_type": "markdown",
   "metadata": {},
   "source": [
    "## Assessment on testing set"
   ]
  },
  {
   "cell_type": "markdown",
   "metadata": {},
   "source": [
    "### K-Fold cross validation\n",
    "We will split the data in 5  folds to use the k-fold cross validation"
   ]
  },
  {
   "cell_type": "code",
   "execution_count": 101,
   "metadata": {},
   "outputs": [
    {
     "name": "stdout",
     "output_type": "stream",
     "text": [
      "The cross validation score for Support Vector Machine is: [0.9992278  0.9996139  0.9996139  1.         0.99961383]\n",
      "The cross validation score for Random Forest is: [1. 1. 1. 1. 1.]\n",
      "The cross validation score for Stochastic Gradient Descent is: [1. 1. 1. 1. 1.]\n"
     ]
    }
   ],
   "source": [
    "folds_number: int = 5\n",
    "\n",
    "for key, value in models_dict.items():\n",
    "    print(f\"The cross validation score for {key} is: {cross_val_score(value, data_test, target_test, cv=folds_number)}\")"
   ]
  },
  {
   "cell_type": "markdown",
   "metadata": {},
   "source": [
    "### Confusion matrix"
   ]
  },
  {
   "cell_type": "markdown",
   "metadata": {},
   "source": [
    "First use the cross_val_predict to return the predictioin made on each fold"
   ]
  },
  {
   "cell_type": "code",
   "execution_count": 102,
   "metadata": {},
   "outputs": [],
   "source": [
    "target_test_prediction_dict: dict = {k: cross_val_predict(v, data_test, target_test, cv=folds_number) for k, v in models_dict.items()}"
   ]
  },
  {
   "cell_type": "markdown",
   "metadata": {},
   "source": [
    "Then for each model draw the confusion matrix"
   ]
  },
  {
   "cell_type": "code",
   "execution_count": 103,
   "metadata": {},
   "outputs": [],
   "source": [
    "confusion_matrix_dict: dict = {k: confusion_matrix(target_test, v) for k, v in target_test_prediction_dict.items()}"
   ]
  },
  {
   "cell_type": "code",
   "execution_count": 117,
   "metadata": {},
   "outputs": [
    {
     "data": {
      "image/png": "[encoded data removed]",
      "text/plain": [
       "<Figure size 1800x432 with 6 Axes>"
      ]
     },
     "metadata": {
      "needs_background": "light"
     },
     "output_type": "display_data"
    }
   ],
   "source": [
    "# Draw the confusion matrix:\n",
    "fig, axs = plt.subplots(1,3, figsize = (25,6))\n",
    "\n",
    "for i, key in enumerate(confusion_matrix_dict.keys()):\n",
    "    disp = ConfusionMatrixDisplay(confusion_matrix = confusion_matrix_dict[key])\n",
    "    axs[i].set_title(key, fontsize = 20)\n",
    "    disp.plot(ax=axs[i])\n"
   ]
  },
  {
   "cell_type": "markdown",
   "metadata": {},
   "source": [
    "### Different scores\n",
    "We can compute different metrics on the models:\n",
    "- Recall\n",
    "- Precision\n",
    "- F1 score"
   ]
  },
  {
   "cell_type": "code",
   "execution_count": 105,
   "metadata": {},
   "outputs": [],
   "source": [
    "scores_dict: dict = {k:\n",
    "{\n",
    "    \"recall\": recall_score(target_test, v),\n",
    "    \"precision\": precision_score(target_test, v),\n",
    "    \"F1 score\": f1_score(target_test, v)\n",
    "} for k, v in target_test_prediction_dict.items()}\n"
   ]
  },
  {
   "cell_type": "code",
   "execution_count": null,
   "metadata": {},
   "outputs": [
    {
     "data": {
      "text/plain": [
       "{'svm': {'recall': 0.9996443496043389,\n",
       "  'precision': 0.9999703528016602,\n",
       "  'F1 score': 0.9998073246283589},\n",
       " 'random_forest': {'recall': 1.0, 'precision': 1.0, 'F1 score': 1.0},\n",
       " 'sgd': {'recall': 0.9999703624670282,\n",
       "  'precision': 1.0,\n",
       "  'F1 score': 0.999985181013915}}"
      ]
     },
     "metadata": {},
     "output_type": "display_data"
    }
   ],
   "source": [
    "scores_dict"
   ]
  }
 ],
 "metadata": {
  "kernelspec": {
   "display_name": "Python 3.10.5 ('bootcamp_environment')",
   "language": "python",
   "name": "python3"
  },
  "language_info": {
   "codemirror_mode": {
    "name": "ipython",
    "version": 3
   },
   "file_extension": ".py",
   "mimetype": "text/x-python",
   "name": "python",
   "nbconvert_exporter": "python",
   "pygments_lexer": "ipython3",
   "version": "3.10.5"
  },
  "orig_nbformat": 4,
  "vscode": {
   "interpreter": {
    "hash": "edbda650672a58fb01c6211b699ad5f079e7c69c72b38bb7c8cef8ef8f14c9f9"
   }
  }
 },
 "nbformat": 4,
 "nbformat_minor": 2
}
